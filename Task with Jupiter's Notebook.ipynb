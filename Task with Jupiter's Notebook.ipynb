{
 "cells": [
  {
   "cell_type": "markdown",
   "id": "78a7fed9-9eb4-4692-8c02-7833fd51b4d3",
   "metadata": {},
   "source": [
    "# Task with Jupiter's Notebook"
   ]
  },
  {
   "cell_type": "markdown",
   "id": "2c19c4d9-af78-4af0-8ee7-eb36b8b16345",
   "metadata": {},
   "source": [
    "In this notebook, Data Science Tools and Ecosystem are summarized."
   ]
  },
  {
   "cell_type": "markdown",
   "id": "1b443646-de14-4b56-9674-93180db780e0",
   "metadata": {},
   "source": [
    "<br> <!-- 여백 추가 -->\n",
    "<br> <!-- 여백 추가 -->\n",
    "<br> <!-- 여백 추가 -->"
   ]
  },
  {
   "cell_type": "markdown",
   "id": "853e76d0-0a2e-4fb6-be6b-a620c1dca513",
   "metadata": {},
   "source": [
    "### Some of the popular languages that Data Scientists use are:\n",
    "\n",
    "- Python\n",
    "- R\n",
    "- SQL"
   ]
  },
  {
   "cell_type": "markdown",
   "id": "6eba0e68-e96b-4897-9507-7cc97be37c54",
   "metadata": {},
   "source": [
    "<br> <!-- 여백 추가 -->\n",
    "<br> <!-- 여백 추가 -->"
   ]
  },
  {
   "cell_type": "markdown",
   "id": "e44c5fe6-b7c0-4f2e-bf18-f4491314a210",
   "metadata": {},
   "source": [
    "### Some of the commonly used libraries used by Data Scientists include:\n",
    "    \n",
    "- Python Libraries\n",
    "    - NumPy\n",
    "    - Pandas\n",
    "    - Seaborn\n",
    "    <br> <!-- 여백 추가 -->\n",
    "- R Libraries\n",
    "    - ggplot2\n",
    "    - dplyr\n",
    "    - caret"
   ]
  },
  {
   "cell_type": "markdown",
   "id": "11306ca9-7309-4b48-a728-f3d68406cb72",
   "metadata": {},
   "source": [
    "<br> <!-- 여백 추가 -->\n",
    "<br> <!-- 여백 추가 -->"
   ]
  },
  {
   "cell_type": "markdown",
   "id": "5c75bda2-923a-4940-8b75-757a80da0308",
   "metadata": {},
   "source": [
    "### Data Science Tools\n",
    "\n",
    "| Tool Name | Language | Functionality |\n",
    "| --------- | -------- | ------------- |\n",
    "| Python | Python | Data Analysis, Machine Learning, Data Visualization |\n",
    "| R | R | Statistical Analysis, Data Visualization |\n",
    "| SQL | SQL | Database Querying |"
   ]
  },
  {
   "cell_type": "markdown",
   "id": "307cd68e-05f3-4216-974e-3017d9f4e124",
   "metadata": {},
   "source": [
    "<br> <!-- 여백 추가 -->\n",
    "<br> <!-- 여백 추가 -->"
   ]
  },
  {
   "cell_type": "markdown",
   "id": "633accf0-acc4-4dda-9e18-da9490feb632",
   "metadata": {},
   "source": [
    "### Below are a few examples of evaluating arithmetic expressions in Python\n",
    "\n",
    "In this section, I will explore arithmetic expressions, which are fundamental to many computations and data analyses. Arithmetic expressions use operators to perform calculations on numerical values. \n",
    "\n",
    "1. **Addition (+)**: Adds two numbers.\n",
    "   - Example: `5 + 3` results in `8`.\n",
    "2. **Subtraction (-)**: Subtracts one number from another.\n",
    "   - Example: `10 - 4` results in `6`.\n",
    "3. **Multiplication (*)**: Multiplies two numbers.\n",
    "   - Example: `7 * 2` results in `14`.\n",
    "4. **Division (/)**: Divides one number by another.\n",
    "   - Example: `20 / 5` results in `4`.\n",
    "5. **Modulus (%)**: Finds the remainder when one number is divided by another.\n",
    "   - Example: `17 % 3` results in `2`."
   ]
  },
  {
   "cell_type": "markdown",
   "id": "35d670fd-103e-40ba-bcb3-e368cbaa5201",
   "metadata": {},
   "source": [
    "<br> <!-- 여백 추가 -->\n",
    "<br> <!-- 여백 추가 -->"
   ]
  },
  {
   "cell_type": "code",
   "execution_count": 20,
   "id": "b88b3e5a-cb05-4e23-a720-581a4883c604",
   "metadata": {},
   "outputs": [
    {
     "data": {
      "text/plain": [
       "12"
      ]
     },
     "execution_count": 20,
     "metadata": {},
     "output_type": "execute_result"
    }
   ],
   "source": [
    "### Code cells created to multiply and add numbers\n",
    "\n",
    "##### This is a simple arithmetic expression to multiply then add integers\n",
    "result = (2 * 3) + 6\n",
    "\n",
    "##### Display the result\n",
    "result"
   ]
  },
  {
   "cell_type": "markdown",
   "id": "e5610e38-d491-4916-82f6-95a071467390",
   "metadata": {},
   "source": [
    "<br> <!-- 여백 추가 -->\n",
    "<br> <!-- 여백 추가 -->"
   ]
  },
  {
   "cell_type": "code",
   "execution_count": 22,
   "id": "43eafb1c-7e50-408b-9999-5c0aa17f4196",
   "metadata": {},
   "outputs": [
    {
     "data": {
      "text/plain": [
       "3.3333333333333335"
      ]
     },
     "execution_count": 22,
     "metadata": {},
     "output_type": "execute_result"
    }
   ],
   "source": [
    "### Create a code cell to convert minutes to hours\n",
    "\n",
    "##### This will convert 200 minutes to hours by dividing by 60\n",
    "hours = 200 / 60\n",
    "\n",
    "##### Display the result\n",
    "hours"
   ]
  },
  {
   "cell_type": "markdown",
   "id": "2ac93956-bd98-4acc-ba82-4f1224c62380",
   "metadata": {},
   "source": [
    "<br> <!-- 여백 추가 -->\n",
    "<br> <!-- 여백 추가 -->"
   ]
  },
  {
   "cell_type": "markdown",
   "id": "1e25873d-77f0-4c70-bc25-a2de67965400",
   "metadata": {},
   "source": [
    "### Insert a markdown cell to list Objectives\n",
    "\n",
    "**Objectives:**\n",
    "\n",
    "- List popular languages for Data Science.\n",
    "- Describe what Data Science is and why it’s important.\n",
    "- Identify the tools and libraries commonly used in Data Science.\n",
    "- Explain basic arithmetic operations used in programming.\n",
    "- Convert minutes into hours using Python."
   ]
  },
  {
   "cell_type": "markdown",
   "id": "b16eeef5-d6ef-404a-89ca-39ccccf32da0",
   "metadata": {},
   "source": [
    "<br> <!-- 여백 추가 -->\n",
    "<br> <!-- 여백 추가 -->"
   ]
  },
  {
   "cell_type": "markdown",
   "id": "424a9ed7-852f-497d-b418-e34b07021dc2",
   "metadata": {},
   "source": [
    "## Author\n",
    "Nayeon Kim(김나연)"
   ]
  },
  {
   "cell_type": "markdown",
   "id": "29d42ae7-9d60-454a-a01d-fde01bf0e87a",
   "metadata": {},
   "source": [
    "<br> <!-- 여백 추가 -->\n",
    "<br> <!-- 여백 추가 -->"
   ]
  },
  {
   "cell_type": "code",
   "execution_count": null,
   "id": "baa8e26a-49a9-4b73-b2db-0a3f3b33657a",
   "metadata": {},
   "outputs": [],
   "source": []
  }
 ],
 "metadata": {
  "kernelspec": {
   "display_name": "Python 3 (ipykernel)",
   "language": "python",
   "name": "python3"
  },
  "language_info": {
   "codemirror_mode": {
    "name": "ipython",
    "version": 3
   },
   "file_extension": ".py",
   "mimetype": "text/x-python",
   "name": "python",
   "nbconvert_exporter": "python",
   "pygments_lexer": "ipython3",
   "version": "3.12.4"
  }
 },
 "nbformat": 4,
 "nbformat_minor": 5
}
